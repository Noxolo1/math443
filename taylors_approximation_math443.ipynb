{
 "cells": [
  {
   "cell_type": "code",
   "execution_count": 8,
   "metadata": {},
   "outputs": [
    {
     "name": "stdout",
     "output_type": "stream",
     "text": [
      "forward:  0.49999237076190184 Error: 7.629238098161295e-06\n",
      "\n",
      "backward: 0.5000002384185791 Error: 7.629238098161295e-06\n"
     ]
    }
   ],
   "source": [
    "import numpy as np\n",
    "\n",
    "\n",
    "def f(x):\n",
    "    return np.log(x)\n",
    "\n",
    "x0 = 2\n",
    "\n",
    "# forward\n",
    "for i in range (0, 15):\n",
    "    fpf = (f(x0 + 0.5**i) - f(x0))/(0.5**i)\n",
    "\n",
    "# backward\n",
    "for i in range (0, 20):\n",
    "    fpb = (f(x0) - f(x0 - 0.5**i))/(0.5**i)\n",
    "\n",
    "\n",
    "print(\"forward:  \" + str(fpf) + \" Error: \" + str(abs(1/2 - fpf)))\n",
    "print()\n",
    "print(\"backward: \" + str(fpb) + \" Error: \" + str(abs(1/2 - fpf)))\n",
    "\n"
   ]
  },
  {
   "cell_type": "code",
   "execution_count": 20,
   "metadata": {},
   "outputs": [
    {
     "name": "stdout",
     "output_type": "stream",
     "text": [
      "center:  0.46209812037329684 Error: 4.620981203732968\n",
      "center:  0.46209812037329695 Error: 1.0000000000000002\n",
      "center:  0.4755665919183099 Error: 1.0291463456595165\n",
      "center:  0.4861908181172125 Error: 1.0223401441132507\n",
      "center:  0.4926577073654143 Error: 1.0133011340552358\n",
      "center:  0.4962135001055235 Error: 1.0072175725396129\n",
      "center:  0.4980770986024794 Error: 1.0037556384430484\n",
      "center:  0.4990310298961589 Error: 1.001915228177236\n",
      "center:  0.499513621457974 Error: 1.0009670572227052\n",
      "center:  0.49975633563108585 Error: 1.0004859010098732\n",
      "center:  0.4998780488240679 Error: 1.000243545072477\n",
      "center:  0.49993899463697744 Error: 1.0001219213627262\n",
      "center:  0.4999694898713945 Error: 1.0000609979112336\n",
      "center:  0.4999847430732795 Error: 1.0000305082653922\n",
      "center:  0.49999237107113004 Error: 1.0000152564612346\n",
      "\n",
      "center:  0.5493061443340549 Error: 6463.04942338465\n",
      "center:  0.5108256237659907 Error: 0.21955932495240058\n",
      "center:  0.5026288565618122 Error: 0.242836497798022\n",
      "center:  0.5006525718160244 Error: 0.24823408987158677\n",
      "center:  0.5001628558506717 Error: 0.24956004331264425\n",
      "center:  0.5000406960656711 Error: 0.24989010528820643\n",
      "center:  0.5000101728985875 Error: 0.24997253222751745\n",
      "center:  0.5000025431547925 Error: 0.249993133289993\n",
      "center:  0.5000006357843318 Error: 0.24999828312255154\n",
      "center:  0.5000001589457952 Error: 0.24999954737826402\n",
      "center:  0.5000000397364488 Error: 0.25\n",
      "center:  0.5000000099340696 Error: 0.24999892711690563\n",
      "center:  0.5000000024836027 Error: 0.2500085831015896\n",
      "center:  0.5000000006207301 Error: 0.2499313375446306\n",
      "center:  0.5000000001555236 Error: 0.25054945054945055\n"
     ]
    }
   ],
   "source": [
    "import numpy as np \n",
    "\n",
    "def f(x):\n",
    "    return np.log(x)\n",
    "\n",
    "x0 =2\n",
    "fpc1 = 0.1\n",
    "\n",
    "#CENTER APPROXIMATION \n",
    "for i in range (0,15):\n",
    "    fpc = (f(x0 + 2*(0.5**i)) - f(x0 - (0.5**i)))/(3*(0.5**i))\n",
    "    print(\"center:  \" + str(fpc) + \" Error: \" + str(abs(fpc/fpc1)))\n",
    "    fpc1 = fpc\n",
    "\n",
    "print()\n",
    "\n",
    "#CENTER APPROXIMATION \n",
    "for i in range (0,15):\n",
    "    fpc = (f(x0 + (0.5**i)) - f(x0 - (0.5**i)))/(2*(0.5**i))\n",
    "    print(\"center:  \" + str(fpc) + \" Error: \" + str(abs((1/2 - fpc)/(1/2 - fpc1))))\n",
    "    fpc1 = fpc\n"
   ]
  }
 ],
 "metadata": {
  "kernelspec": {
   "display_name": "Python 3",
   "language": "python",
   "name": "python3"
  },
  "language_info": {
   "codemirror_mode": {
    "name": "ipython",
    "version": 3
   },
   "file_extension": ".py",
   "mimetype": "text/x-python",
   "name": "python",
   "nbconvert_exporter": "python",
   "pygments_lexer": "ipython3",
   "version": "3.9.12"
  },
  "orig_nbformat": 4
 },
 "nbformat": 4,
 "nbformat_minor": 2
}
