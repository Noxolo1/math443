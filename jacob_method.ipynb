{
 "cells": [
  {
   "cell_type": "code",
   "execution_count": 2,
   "id": "6ed8aa9c",
   "metadata": {},
   "outputs": [
    {
     "name": "stdout",
     "output_type": "stream",
     "text": [
      "[[ 7  0  0  0  0]\n",
      " [ 0  9  0  0  0]\n",
      " [ 0  0  3  0  0]\n",
      " [ 0  0  0 10  0]\n",
      " [ 0  0  0  0  6]]\n",
      "[[ 7 -3  0  0  0]\n",
      " [-3  9  1  0  0]\n",
      " [ 0  1  3 -1  0]\n",
      " [ 0  0 -1 10 -4]\n",
      " [ 0  0  0 -4  6]]\n",
      "[1. 2. 3. 4. 5.]\n"
     ]
    }
   ],
   "source": [
    "import numpy as np\n",
    "import sys\n",
    "\n",
    "# Do one step of Jacobi's method.\n",
    "def dojacobi(A, b, xn):\n",
    "    # Inputs: A, b, xn\n",
    "    # Outputs: xnp1\n",
    "    N = len(xn)\n",
    "    xnp1 = np.zeros(xn.shape)\n",
    "    for j in range(0, N):\n",
    "        sum = 0\n",
    "        for k in range(0, N):\n",
    "            if k != j:\n",
    "                sum = sum + A[j, k]*xn[k]\n",
    "        xnp1[j] = (b[j] - sum)/A[j, j]\n",
    "    return xnp1\n",
    "\n",
    "\n",
    "def dojacobiMod(A, b, xn):\n",
    "    # Inputs: A, b, xn\n",
    "    # Outputs: xnp1\n",
    "    N = len(xn)\n",
    "    xnp1 = np.zeros(xn.shape)\n",
    "    for j in range(0, N):\n",
    "        sum = 0\n",
    "        for k in range(0, N):\n",
    "            if k < j:\n",
    "                sum = sum + A[j, k]*xnp1[k]\n",
    "            elif k > j:\n",
    "                sum = sum + A[j, k]*xn[k]\n",
    "        xnp1[j] = (b[j] - sum)/A[j, j]\n",
    "    return xnp1\n",
    "\n",
    "\n",
    "x1 = np.array([7, 9, 3, 10, 6])\n",
    "x2 = np.array([-3,1,-1,-4])\n",
    "x3 = np.array([-3,1,-1,-4])\n",
    "x4 = np.diag(x1, 0)\n",
    "x5 = np.diag(x2, 1)\n",
    "x6 = np.diag(x3,-1)\n",
    "\n",
    "print(x4)\n",
    "\n",
    "A = x4 + x5 + x6\n",
    "\n",
    "print(A)\n",
    "\n",
    "xn = np.array([0,0,0,0,0])\n",
    "\n",
    "b = np.array([[1],[18],[7],[17],[14]])\n",
    "\n",
    "for i in range(20):\n",
    "    xn = dojacobiMod(A, b, xn)\n",
    "    xn1 = xn\n",
    "\n",
    "print(xn1)"
   ]
  },
  {
   "cell_type": "code",
   "execution_count": null,
   "id": "305c9991",
   "metadata": {},
   "outputs": [],
   "source": []
  }
 ],
 "metadata": {
  "kernelspec": {
   "display_name": "Python 3 (ipykernel)",
   "language": "python",
   "name": "python3"
  },
  "language_info": {
   "codemirror_mode": {
    "name": "ipython",
    "version": 3
   },
   "file_extension": ".py",
   "mimetype": "text/x-python",
   "name": "python",
   "nbconvert_exporter": "python",
   "pygments_lexer": "ipython3",
   "version": "3.9.12"
  }
 },
 "nbformat": 4,
 "nbformat_minor": 5
}
