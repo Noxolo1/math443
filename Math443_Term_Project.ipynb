{
 "cells": [
  {
   "cell_type": "code",
   "execution_count": 4,
   "id": "9bf7ce26",
   "metadata": {},
   "outputs": [
    {
     "name": "stdout",
     "output_type": "stream",
     "text": [
      "Iterations:  8\n",
      "x1:  1.8181687561695632e-16\n",
      "x2:  1.0\n",
      "\n",
      "Exact Solution:\n",
      "\n"
     ]
    },
    {
     "data": {
      "image/png": "[encoded data removed]",
      "text/plain": [
       "<Figure size 360x360 with 1 Axes>"
      ]
     },
     "metadata": {
      "needs_background": "light"
     },
     "output_type": "display_data"
    }
   ],
   "source": [
    "## Broyden's method according to Burden's Numerical Analysis\n",
    "from __future__ import division\n",
    "import numpy as np\n",
    "import matplotlib.pyplot as plt\n",
    "\n",
    "# define broydens method\n",
    "def broyden(x1, x2, f_equations, B_equations, tol, maxIters):\n",
    "    \n",
    "    #iterate counter \n",
    "    steps_taken = 0\n",
    "\n",
    "    # evaluate functions \n",
    "    f = f_equations(x1,x2)\n",
    " \n",
    "    # inverting B matrix\n",
    "    B = np.linalg.inv(B_equations(x1,x2))\n",
    " \n",
    "    # two conditions, 1) 2 norm (Frobenius norm in this case) exceeds tolerance\n",
    "    # or 2) steps_taken exceeds iterations\n",
    "    while np.linalg.norm(f,2) > tol and steps_taken < maxIters:\n",
    "        \n",
    "        d = B.dot(f_equations(x1,x2))\n",
    " \n",
    "        x1 = x1 - d[0]\n",
    "        x2 = x2 - d[1]\n",
    " \n",
    "        newf = f_equations(x1,x2)\n",
    "        z = newf - f\n",
    " \n",
    "        # y = B(i-1)^-1 * [F(x(i)) - f(x(i-1))]  \n",
    "        y = B.dot(z)\n",
    "\n",
    "        # s = x(i) - x(i-1) \n",
    "        s = - 1 * d\n",
    " \n",
    "        B = B  + np.dot(((s-y).dot(s)), B) / np.dot(s,y)\n",
    " \n",
    "        f = newf\n",
    "        steps_taken += 1\n",
    " \n",
    "    return steps_taken, x1, x2  \n",
    " \n",
    "# broydens function is currently set up for 2 equations with\n",
    "# 2 unknowns but can be modified for larger systems \n",
    "# define tolerance, max iterations, and xin = initial vector \n",
    "tol = 10.0**-10\n",
    "maxIters = 50\n",
    "xin = np.array([1,2])\n",
    "\n",
    "# define function and evaluate \n",
    "def fs(x1,x2):\n",
    "    return np.array([x1 + 2*x2 - 2, x1**2 + 4*x2**2 - 4])\n",
    "\n",
    "# first evaluation of Jacobian (labeled B here) \n",
    "def Bs(x1,x2):\n",
    "    return np.array([[1,2], [2, 16]])\n",
    " \n",
    "#A = np.array([[1,2], [2, 16]])\n",
    " \n",
    "n, x1, x2 = broyden(xin[0], xin[1], fs, Bs, tol, maxIters)\n",
    "print(\"Iterations: \", n)\n",
    "print(\"x1: \", x1)\n",
    "print(\"x2: \", x2)\n",
    "print()\n",
    "print(\"Exact Solution:\")\n",
    "print()\n",
    "\n",
    "# create new figure \n",
    "fig = plt.figure(1, figsize=(5,5))\n",
    "\n",
    "# step size for value ranges\n",
    "delta = 0.25 \n",
    "#create range of values \n",
    "x1,x2 = np.meshgrid(np.arange(-10.1,10.1,delta), np.arange(-10.1,10.1,delta))\n",
    "\n",
    "f1 = x1 + 2*x2 - 2\n",
    "f2 = x1**2 + 4*x2**2 - 4\n",
    "\n",
    "# graph stuff\n",
    "plt.rcParams[\"figure.figsize\"] = [7.50, 3.50]\n",
    "plt.rcParams[\"figure.autolayout\"] = True\n",
    "\n",
    "# plot functions\n",
    "plt.contour(x1, x2, f1, [0], colors = \"green\")\n",
    "plt.contour(x1, x2, f2, [0], colors = \"red\")\n",
    "\n",
    "#labels = ['f1', 'f2']\n",
    "#plt.legend()\n",
    "\n",
    "#label axis\n",
    "plt.xlabel(\"x\")\n",
    "plt.ylabel(\"y\")\n",
    "\n",
    "# constrain graph window \n",
    "plt.xlim([-3, 3])\n",
    "plt.ylim([-2, 3])\n",
    "\n",
    "# display graph\n",
    "plt.show()"
   ]
  }
 ],
 "metadata": {
  "kernelspec": {
   "display_name": "Python 3 (ipykernel)",
   "language": "python",
   "name": "python3"
  },
  "language_info": {
   "codemirror_mode": {
    "name": "ipython",
    "version": 3
   },
   "file_extension": ".py",
   "mimetype": "text/x-python",
   "name": "python",
   "nbconvert_exporter": "python",
   "pygments_lexer": "ipython3",
   "version": "3.9.12"
  }
 },
 "nbformat": 4,
 "nbformat_minor": 5
}
