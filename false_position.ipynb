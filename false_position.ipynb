{
 "cells": [
  {
   "cell_type": "code",
   "execution_count": 3,
   "id": "92ad5a99",
   "metadata": {},
   "outputs": [
    {
     "name": "stdout",
     "output_type": "stream",
     "text": [
      "\n",
      "Root is : -0.28646096\n"
     ]
    },
    {
     "data": {
      "text/plain": [
       "-0.2864609601176862"
      ]
     },
     "execution_count": 3,
     "metadata": {},
     "output_type": "execute_result"
    }
   ],
   "source": [
    "# Define the function in question here\n",
    "def f(x):\n",
    "    return x ** 3 + 2 * x ** 2 - 3 * x - 1\n",
    "\n",
    "\n",
    "# Define the main code here.\n",
    "# Inputs\n",
    "#   (a, b): initial enclosing interval\n",
    "#   tol: tolerance under which |f(z)| will trigger a stopping condition\n",
    "# Outputs\n",
    "#   z: the root\n",
    "\n",
    "def main(a, b, tol):\n",
    "    # Your code here\n",
    "\n",
    "    z = 0\n",
    "    a = a\n",
    "    b = b\n",
    "\n",
    "    for i in range(0, 1000):\n",
    "\n",
    "        xm = ((f(b)*a) - (f(a)*b))/(f(b) - f(a))\n",
    "\n",
    "        if (f(xm) * f(b)) < 0:\n",
    "            a = xm\n",
    "        else:\n",
    "            b = xm\n",
    "\n",
    "        z = xm\n",
    "\n",
    "        if abs(f(z)) <= tol:\n",
    "            break\n",
    "\n",
    "    print('\\nRoot is : %0.8f' % z)\n",
    "    return z\n",
    "\n",
    "main(-1,0,.00001)"
   ]
  },
  {
   "cell_type": "code",
   "execution_count": null,
   "id": "e08d4e35",
   "metadata": {},
   "outputs": [],
   "source": []
  }
 ],
 "metadata": {
  "kernelspec": {
   "display_name": "Python 3 (ipykernel)",
   "language": "python",
   "name": "python3"
  },
  "language_info": {
   "codemirror_mode": {
    "name": "ipython",
    "version": 3
   },
   "file_extension": ".py",
   "mimetype": "text/x-python",
   "name": "python",
   "nbconvert_exporter": "python",
   "pygments_lexer": "ipython3",
   "version": "3.9.12"
  }
 },
 "nbformat": 4,
 "nbformat_minor": 5
}
