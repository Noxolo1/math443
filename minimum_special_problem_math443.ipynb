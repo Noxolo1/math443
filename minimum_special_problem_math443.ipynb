{
 "cells": [
  {
   "cell_type": "code",
   "execution_count": null,
   "metadata": {},
   "outputs": [],
   "source": [
    "import numpy as np \n",
    "import matplotlib.pyplot as plt\n",
    "import sys\n",
    "import sympy\n",
    "\n",
    "# define function \n",
    "def z(x,y):\n",
    "    return np.exp(np.sin(50*x)) + np.sin(60*np.exp(y)) + np.sin(70*np.sin(x)) + np.sin(np.sin(80*y)) - np.sin(10(x+y)) + (x**2 + y**2)/4.0\n",
    "\n",
    "# partial with respect to x\n",
    "def dfdx(x,y):\n",
    "    -10*np.cos(10(x+y)) + x/2.0 + 50*np.exp(np.sin(50*x))*np.cos(50*x) + 70*np.cos(x)*np.cos(70*np.sin(x))\n",
    "\n",
    "# partial with respect to y\n",
    "def dfdy(x,y):\n",
    "    -10*np.cos(10(x+y)) + y/2.0 + 60*np.exp(y)*np.cos(60*np.exp(y)) + 80*np.cos(80*y)*np.cos(np.sin(80*y)) \n",
    "\n",
    "# gradient array \n",
    "def gradf(x, y):\n",
    "    return np.array([dfdx(x, y), dfdy(x, y)]) \n",
    "\n",
    "\n",
    "def grad_descent2(f, gradf, init_t, alpha):\n",
    "    EPS = 1e-5\n",
    "    prev_t = init_t-10*EPS\n",
    "    t = init_t.copy()\n",
    "    \n",
    "    max_iter = 1000\n",
    "    iter = 0\n",
    "    while norm(t - prev_t) > EPS and iter < max_iter:\n",
    "        prev_t = t.copy()\n",
    "        t -= alpha*gradf(t[0], t[1])\n",
    "        print t, f(t[0], t[1]), gradf(t[0], t[1])\n",
    "        iter += 1\n",
    "    \n",
    "    return t\n",
    "\n",
    "\n",
    "\n"
   ]
  }
 ],
 "metadata": {
  "kernelspec": {
   "display_name": "base",
   "language": "python",
   "name": "python3"
  },
  "language_info": {
   "name": "python",
   "version": "3.9.12"
  },
  "orig_nbformat": 4
 },
 "nbformat": 4,
 "nbformat_minor": 2
}
