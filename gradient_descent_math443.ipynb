{
 "cells": [
  {
   "cell_type": "code",
   "execution_count": 1,
   "metadata": {},
   "outputs": [
    {
     "name": "stdout",
     "output_type": "stream",
     "text": [
      "1.77104e+01\n",
      "4.19722e+00\n",
      "2.80931e+00\n",
      "7.42084e-01\n",
      "5.88785e-16\n",
      "[[1.]\n",
      " [2.]\n",
      " [3.]\n",
      " [4.]\n",
      " [5.]]\n"
     ]
    }
   ],
   "source": [
    "import numpy as np\n",
    "\n",
    "# Conjugate Gradient algorithm\n",
    "# Inputs: Matrix A, right-hand side b, guess xn\n",
    "# Outputs: solution xnp1 after a tolerance tol is reached\n",
    "def doCG(A, b, xn):\n",
    "\t# initialize with residual rn, direction dn, step 0\n",
    "\trn = b - np.matmul(A, xn)\n",
    "\tdn = rn\n",
    "\tn = 0\n",
    "\ttol,check = 1e-10, 1\n",
    "\n",
    "\twhile check > tol:\n",
    "\t\tn += 1\n",
    "\t\tln = np.matmul(rn.T, rn)/np.matmul(np.matmul(A, dn).T,dn)\n",
    "\t\txnp1 = xn + ln*dn\n",
    "\t\trnp1 = rn - ln*np.matmul(A, dn)\n",
    "\t\t\n",
    "\t\t# Check residual\n",
    "\t\tcheck = np.linalg.norm(rnp1)\n",
    "\t\tprint('%9.5e' % check)\n",
    "\t\t\n",
    "\t\t# Identify new direction dnp1\n",
    "\t\tan = np.matmul(rnp1.T,rnp1)/np.matmul(rn.T, rn)\n",
    "\t\tdnp1 = rnp1 + an*dn\n",
    "\t\t\n",
    "\t\t# Reassign vectors to return to loop\n",
    "\t\txn = xnp1\n",
    "\t\trn = rnp1\n",
    "\t\tdn = dnp1\n",
    "\treturn xnp1\n",
    "\n",
    "# Create tri-diagonal structure for A\n",
    "dA = np.array([7, 9, 3, 10, 6])\n",
    "uA = np.array([-3, 1, -1, -4])\n",
    "lA = uA\n",
    "\n",
    "# Create A and b\n",
    "A = np.diag(dA) + np.diag(uA, 1) + np.diag(lA, -1)\n",
    "b = np.array([ [1], [18], [7], [17], [14] ])\n",
    "\n",
    "# Initialize with a zero vector\n",
    "x0 = np.zeros((5,1))\n",
    "x = doCG(A, b, x0)\n",
    "print(x)\n"
   ]
  }
 ],
 "metadata": {
  "kernelspec": {
   "display_name": "base",
   "language": "python",
   "name": "python3"
  },
  "language_info": {
   "codemirror_mode": {
    "name": "ipython",
    "version": 3
   },
   "file_extension": ".py",
   "mimetype": "text/x-python",
   "name": "python",
   "nbconvert_exporter": "python",
   "pygments_lexer": "ipython3",
   "version": "3.9.12"
  },
  "orig_nbformat": 4
 },
 "nbformat": 4,
 "nbformat_minor": 2
}
