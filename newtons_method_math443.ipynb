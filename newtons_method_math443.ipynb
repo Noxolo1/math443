{
 "cells": [
  {
   "cell_type": "code",
   "execution_count": 1,
   "id": "79fd1470",
   "metadata": {
    "scrolled": true
   },
   "outputs": [
    {
     "name": "stdout",
     "output_type": "stream",
     "text": [
      "\n",
      "Root is : -1.13131306\n",
      "Steps: 4\n"
     ]
    },
    {
     "data": {
      "text/plain": [
       "-1.131313064043092"
      ]
     },
     "execution_count": 1,
     "metadata": {},
     "output_type": "execute_result"
    }
   ],
   "source": [
    "# Cell for Unit Project 1  w/ Newton's Method\n",
    "# Non-Fever code\n",
    "\n",
    "import numpy as np\n",
    "import sys \n",
    "\n",
    "# Define the function in question here (you may also want to define the derivative)\n",
    "def f(x):\n",
    "    return (72 + x - (1/0.337) + (18 + (1/0.337))*np.exp(-0.337*x) - 98.6)\n",
    "\n",
    "def df(x):\n",
    "    return 1 - 7.066*np.exp(-0.337*x)\n",
    "\n",
    "# Define the main code here.\n",
    "# Inputs\n",
    "#   p0: initial guess of root\n",
    "#   tol: tolerance under which |f(z)| will trigger a stopping condition\n",
    "# Outputs\n",
    "#   z: the root\n",
    "\n",
    "def main(p0, tol):\n",
    "        \n",
    "    pn = p0\n",
    "    d = 0\n",
    "    \n",
    "    for i in range(sys.maxsize):\n",
    "        \n",
    "        d += 1\n",
    "        \n",
    "        pnPlus = pn - f(pn)/df(pn)\n",
    "        \n",
    "        pn = pnPlus\n",
    "        \n",
    "        z = pnPlus\n",
    "        \n",
    "        if abs(f(z)) < tol:\n",
    "            break\n",
    "    \n",
    "    print('\\nRoot is : %0.8f' % z)\n",
    "    print(\"Steps: \" + str(d))\n",
    "    return z\n",
    "\n",
    "main(0, .00001)"
   ]
  },
  {
   "cell_type": "code",
   "execution_count": 6,
   "id": "a96fd475",
   "metadata": {
    "scrolled": true
   },
   "outputs": [
    {
     "data": {
      "image/png": "[encoded data removed]",
      "text/plain": [
       "<Figure size 540x252 with 1 Axes>"
      ]
     },
     "metadata": {
      "needs_background": "light"
     },
     "output_type": "display_data"
    }
   ],
   "source": [
    "import matplotlib.pyplot as plt\n",
    "\n",
    "# Graphing solution for Non-Fever\n",
    "\n",
    "plt.rcParams[\"figure.figsize\"] = [7.50, 3.50]\n",
    "plt.rcParams[\"figure.autolayout\"] = True\n",
    "\n",
    "# split f(x) from cell 1 into two parts and find intercept \n",
    "# we see that it gives the same answer of -1.1313\n",
    "\n",
    "def fx(x):\n",
    "    return (18 + (1/0.337))*np.exp(-0.337*x) - 98.6\n",
    "\n",
    "def fy(y):\n",
    "    return -(72 + x - (1/0.337)) \n",
    "\n",
    "x = np.linspace(-10, 10, 1000)\n",
    "\n",
    "y = np.linspace(-10, 10, 1000)\n",
    "\n",
    "# plot functions\n",
    "plt.plot(x, fx(x), label= \"g(x)\")\n",
    "plt.plot(y, fy(y), label= \"p(x)\")\n",
    "plt.legend()\n",
    "\n",
    "# constrain graph window \n",
    "plt.xlim([-2.5, 0])\n",
    "plt.ylim([-70, -65])\n",
    "\n",
    "plt.show()\n",
    "\n"
   ]
  },
  {
   "cell_type": "code",
   "execution_count": 3,
   "id": "9f7d6254",
   "metadata": {
    "scrolled": false
   },
   "outputs": [
    {
     "name": "stdout",
     "output_type": "stream",
     "text": [
      "\n",
      "Root is : -1.31732882\n",
      "Steps: 4\n"
     ]
    },
    {
     "data": {
      "text/plain": [
       "-1.3173288154696274"
      ]
     },
     "execution_count": 3,
     "metadata": {},
     "output_type": "execute_result"
    }
   ],
   "source": [
    "# Cell for Unit Project 1  w/ Newton's Method\n",
    "\n",
    "# Fever code\n",
    "\n",
    "import numpy as np\n",
    "import sys \n",
    "\n",
    "# Define the function in question here (you may also want to define the derivative)\n",
    "def f(x):\n",
    "    return (72 + x - (1/0.337) + (18 + (1/0.337))*np.exp(-0.337*x) - 100.4)\n",
    "\n",
    "def df(x):\n",
    "    return 1 - 7.066*np.exp(-0.337*x)\n",
    "\n",
    "# Define the main code here.\n",
    "# Inputs\n",
    "#   p0: initial guess of root\n",
    "#   tol: tolerance under which |f(z)| will trigger a stopping condition\n",
    "# Outputs\n",
    "#   z: the root\n",
    "\n",
    "def main(p0, tol):\n",
    "        \n",
    "    pn = p0\n",
    "    d = 0\n",
    "    \n",
    "    for i in range(sys.maxsize):\n",
    "        \n",
    "        d += 1\n",
    "        \n",
    "        pnPlus = pn - f(pn)/df(pn)\n",
    "        \n",
    "        pn = pnPlus\n",
    "        \n",
    "        z = pnPlus\n",
    "        \n",
    "        if abs(f(z)) < tol:\n",
    "            break\n",
    "    \n",
    "    print('\\nRoot is : %0.8f' % z)\n",
    "    print(\"Steps: \" + str(d))\n",
    "    return z\n",
    "\n",
    "main(0, .00001)"
   ]
  },
  {
   "cell_type": "code",
   "execution_count": 7,
   "id": "45f23ad6",
   "metadata": {},
   "outputs": [
    {
     "data": {
      "image/png": "[encoded data removed]",
      "text/plain": [
       "<Figure size 540x252 with 1 Axes>"
      ]
     },
     "metadata": {
      "needs_background": "light"
     },
     "output_type": "display_data"
    }
   ],
   "source": [
    "import matplotlib.pyplot as plt\n",
    "\n",
    "# Graphing solution for Fever \n",
    "\n",
    "plt.rcParams[\"figure.figsize\"] = [7.50, 3.50]\n",
    "plt.rcParams[\"figure.autolayout\"] = True\n",
    "\n",
    "# split f(x) from cell 1 into two parts and find intercept \n",
    "# we see that it gives the same answer of -1.1313\n",
    "\n",
    "def fx(x):\n",
    "    return (18 + (1/0.337))*np.exp(-0.337*x) - 100.4\n",
    "\n",
    "def fy(y):\n",
    "    return -(72 + x - (1/0.337)) \n",
    "\n",
    "x = np.linspace(-10, 10, 1000)\n",
    "\n",
    "y = np.linspace(-10, 10, 1000)\n",
    "\n",
    "plt.plot(x, fx(x), label= \"g(x)\")\n",
    "plt.plot(y, fy(y), label=\"p(x)\")\n",
    "plt.legend()\n",
    "\n",
    "# constrain graph window \n",
    "plt.xlim([-2.5, 0])\n",
    "plt.ylim([-70, -65])\n",
    "\n",
    "plt.show()\n"
   ]
  },
  {
   "cell_type": "code",
   "execution_count": 7,
   "id": "312461fe",
   "metadata": {},
   "outputs": [
    {
     "data": {
      "image/png": "[encoded data removed]",
      "text/plain": [
       "<Figure size 540x252 with 1 Axes>"
      ]
     },
     "metadata": {
      "needs_background": "light"
     },
     "output_type": "display_data"
    }
   ],
   "source": [
    "import matplotlib.pyplot as plt\n",
    "\n",
    "# Graphing solution for k, constant of proportionality \n",
    "\n",
    "plt.rcParams[\"figure.figsize\"] = [7.50, 3.50]\n",
    "plt.rcParams[\"figure.autolayout\"] = True\n",
    "\n",
    "# split f(x) from cell 1 into two parts and find intercept \n",
    "# we see that it gives the same answer of -1.1313\n",
    "\n",
    "def fx(x):\n",
    "    return (18 + (1/0.337))*np.exp(-0.337*x) - 100.4\n",
    "\n",
    "def fy(y):\n",
    "    return -(72 + x - (1/0.337)) \n",
    "\n",
    "x = np.linspace(-10, 10, 1000)\n",
    "\n",
    "y = np.linspace(-10, 10, 1000)\n",
    "\n",
    "plt.plot(x, fx(x), label= \"g(x)\")\n",
    "plt.plot(y, fy(y), label=\"p(x)\")\n",
    "plt.legend()\n",
    "\n",
    "# constrain graph window \n",
    "plt.xlim([-2.5, 0])\n",
    "plt.ylim([-70, -65])\n",
    "\n",
    "plt.show()\n"
   ]
  },
  {
   "cell_type": "code",
   "execution_count": null,
   "id": "42f6c5e0",
   "metadata": {},
   "outputs": [],
   "source": []
  }
 ],
 "metadata": {
  "kernelspec": {
   "display_name": "Python 3 (ipykernel)",
   "language": "python",
   "name": "python3"
  },
  "language_info": {
   "codemirror_mode": {
    "name": "ipython",
    "version": 3
   },
   "file_extension": ".py",
   "mimetype": "text/x-python",
   "name": "python",
   "nbconvert_exporter": "python",
   "pygments_lexer": "ipython3",
   "version": "3.9.12"
  }
 },
 "nbformat": 4,
 "nbformat_minor": 5
}
